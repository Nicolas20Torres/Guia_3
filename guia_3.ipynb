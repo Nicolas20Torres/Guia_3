{
 "cells": [
  {
   "cell_type": "markdown",
   "metadata": {},
   "source": [
    "# Desarrollo Guia 3\n",
    "\n",
    "## Actividad 1. Filtros y cruces\n",
    "\n",
    "Producto\n",
    "Escribir en un archivo tipo html de Jupyter  bloques de código y Markdown donde se tomen las variables de una base dada y se les realice lo siguiente:\n",
    "\n",
    "Transformación del tipo de dato.\n",
    "Cruce de tablas.\n",
    "Filtro de variables por algún tipo de criterio.\n",
    "Enviar el archivo en formato HTML al tutor en la plataforma."
   ]
  },
  {
   "cell_type": "code",
   "execution_count": 1,
   "metadata": {},
   "outputs": [],
   "source": [
    "# Importacion de recurso\n",
    "import pandas as pd\n",
    "import numpy as np"
   ]
  }
 ],
 "metadata": {
  "kernelspec": {
   "display_name": "guia_3",
   "language": "python",
   "name": "python3"
  },
  "language_info": {
   "codemirror_mode": {
    "name": "ipython",
    "version": 3
   },
   "file_extension": ".py",
   "mimetype": "text/x-python",
   "name": "python",
   "nbconvert_exporter": "python",
   "pygments_lexer": "ipython3",
   "version": "3.12.1"
  }
 },
 "nbformat": 4,
 "nbformat_minor": 2
}
